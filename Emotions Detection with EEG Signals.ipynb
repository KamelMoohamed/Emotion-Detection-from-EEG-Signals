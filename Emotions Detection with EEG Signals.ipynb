{
 "cells": [
  {
   "cell_type": "markdown",
   "id": "b20d864b",
   "metadata": {},
   "source": [
    "# Emotion Detectio with EEG Signals\n",
    "\n",
    "## Table of content\n",
    "\n",
    "<ul>\n",
    "    <li><a href=\"#i\">Import Packages</a></li>\n",
    "    <li><a href=\"#dw\">Data Wrangling</a></li>\n",
    "        <ul>\n",
    "            <li><a href=\"#r\">Reading EEG Data</a></li>\n",
    "            <li><a href=\"#v\">Viewing a Sample</a></li>\n",
    "        </ul>\n",
    "    <li><a href=\"#dp\">Data Pre-processing</a></li>\n",
    "    <li><a href=\"#dl\">Deep Learning\n",
    "        <ul>\n",
    "            <li><a href=\"#ma\">Model Architecture</a></li>\n",
    "            <li><a href=\"#mt\">Model Training</a></li>\n",
    "            <li><a href=\"#mh\">Plotting the model history curves</a></li>\n",
    "            <li><a href=\"#me\">Model Evaluation</a></li>\n",
    "            <li><a href=\"#hm\">Plotting the heatmap and Classification Report</a></li>\n",
    "        </ul>\n",
    "        </a></li>\n",
    "</ul>"
   ]
  },
  {
   "cell_type": "markdown",
   "id": "ddc5bc6c",
   "metadata": {
    "papermill": {
     "duration": 0.017897,
     "end_time": "2021-09-11T14:25:42.275244",
     "exception": false,
     "start_time": "2021-09-11T14:25:42.257347",
     "status": "completed"
    },
    "tags": []
   },
   "source": [
    "<a id=\"i\"></a>\n",
    "## Import Packages"
   ]
  },
  {
   "cell_type": "code",
   "execution_count": 1,
   "id": "108752e9",
   "metadata": {
    "execution": {
     "iopub.execute_input": "2021-09-11T14:25:42.327624Z",
     "iopub.status.busy": "2021-09-11T14:25:42.326839Z",
     "iopub.status.idle": "2021-09-11T14:25:47.682952Z",
     "shell.execute_reply": "2021-09-11T14:25:47.682368Z",
     "shell.execute_reply.started": "2021-09-11T14:00:00.043025Z"
    },
    "papermill": {
     "duration": 5.389818,
     "end_time": "2021-09-11T14:25:47.683135",
     "exception": false,
     "start_time": "2021-09-11T14:25:42.293317",
     "status": "completed"
    },
    "tags": []
   },
   "outputs": [],
   "source": [
    "import numpy as np\n",
    "import pandas as pd\n",
    "import matplotlib.pyplot as plt\n",
    "import seaborn as sns\n",
    "\n",
    "from sklearn.metrics import confusion_matrix\n",
    "from sklearn.model_selection import train_test_split\n",
    "from sklearn.preprocessing import LabelEncoder\n",
    "from sklearn.model_selection import KFold,cross_validate\n",
    "from sklearn.metrics import classification_report\n",
    "from sklearn.model_selection import cross_val_score\n",
    "\n",
    "from tensorflow import keras\n",
    "import tensorflow.compat.v1 as tf\n",
    "from tensorflow.keras.layers import Dense, Flatten, Input, Dropout, LSTM\n",
    "from tensorflow.keras.wrappers.scikit_learn import KerasClassifier\n",
    "from tensorflow.keras.models import Sequential, Model, load_model\n",
    "from tensorflow.keras.callbacks import EarlyStopping, ModelCheckpoint"
   ]
  },
  {
   "cell_type": "markdown",
   "id": "86e9775a",
   "metadata": {
    "papermill": {
     "duration": 0.017784,
     "end_time": "2021-09-11T14:25:47.719419",
     "exception": false,
     "start_time": "2021-09-11T14:25:47.701635",
     "status": "completed"
    },
    "tags": []
   },
   "source": [
    "<a id=\"dw\"></a>\n",
    "## Data Wrangling\n",
    "\n",
    "<a id=\"r\"></a>\n",
    "### Reading EEG data"
   ]
  },
  {
   "cell_type": "code",
   "execution_count": 2,
   "id": "6e73bd43",
   "metadata": {
    "execution": {
     "iopub.execute_input": "2021-09-11T14:25:47.759545Z",
     "iopub.status.busy": "2021-09-11T14:25:47.758975Z",
     "iopub.status.idle": "2021-09-11T14:25:49.767747Z",
     "shell.execute_reply": "2021-09-11T14:25:49.768277Z",
     "shell.execute_reply.started": "2021-09-11T14:00:05.815409Z"
    },
    "papermill": {
     "duration": 2.03101,
     "end_time": "2021-09-11T14:25:49.768427",
     "exception": false,
     "start_time": "2021-09-11T14:25:47.737417",
     "status": "completed"
    },
    "tags": []
   },
   "outputs": [],
   "source": [
    "df = pd.read_csv(r\"emotions.csv\")"
   ]
  },
  {
   "cell_type": "code",
   "execution_count": 3,
   "id": "8c0a18c5",
   "metadata": {
    "execution": {
     "iopub.execute_input": "2021-09-11T14:25:49.815600Z",
     "iopub.status.busy": "2021-09-11T14:25:49.814860Z",
     "iopub.status.idle": "2021-09-11T14:25:49.852929Z",
     "shell.execute_reply": "2021-09-11T14:25:49.853365Z",
     "shell.execute_reply.started": "2021-09-11T14:00:08.020231Z"
    },
    "papermill": {
     "duration": 0.065724,
     "end_time": "2021-09-11T14:25:49.853501",
     "exception": false,
     "start_time": "2021-09-11T14:25:49.787777",
     "status": "completed"
    },
    "tags": []
   },
   "outputs": [
    {
     "data": {
      "text/html": [
       "<div>\n",
       "<style scoped>\n",
       "    .dataframe tbody tr th:only-of-type {\n",
       "        vertical-align: middle;\n",
       "    }\n",
       "\n",
       "    .dataframe tbody tr th {\n",
       "        vertical-align: top;\n",
       "    }\n",
       "\n",
       "    .dataframe thead th {\n",
       "        text-align: right;\n",
       "    }\n",
       "</style>\n",
       "<table border=\"1\" class=\"dataframe\">\n",
       "  <thead>\n",
       "    <tr style=\"text-align: right;\">\n",
       "      <th></th>\n",
       "      <th># mean_0_a</th>\n",
       "      <th>mean_1_a</th>\n",
       "      <th>mean_2_a</th>\n",
       "      <th>mean_3_a</th>\n",
       "      <th>mean_4_a</th>\n",
       "      <th>mean_d_0_a</th>\n",
       "      <th>mean_d_1_a</th>\n",
       "      <th>mean_d_2_a</th>\n",
       "      <th>mean_d_3_a</th>\n",
       "      <th>mean_d_4_a</th>\n",
       "      <th>...</th>\n",
       "      <th>fft_741_b</th>\n",
       "      <th>fft_742_b</th>\n",
       "      <th>fft_743_b</th>\n",
       "      <th>fft_744_b</th>\n",
       "      <th>fft_745_b</th>\n",
       "      <th>fft_746_b</th>\n",
       "      <th>fft_747_b</th>\n",
       "      <th>fft_748_b</th>\n",
       "      <th>fft_749_b</th>\n",
       "      <th>label</th>\n",
       "    </tr>\n",
       "  </thead>\n",
       "  <tbody>\n",
       "    <tr>\n",
       "      <th>0</th>\n",
       "      <td>4.62</td>\n",
       "      <td>30.3</td>\n",
       "      <td>-356.0</td>\n",
       "      <td>15.6</td>\n",
       "      <td>26.3</td>\n",
       "      <td>1.070</td>\n",
       "      <td>0.411</td>\n",
       "      <td>-15.70</td>\n",
       "      <td>2.06</td>\n",
       "      <td>3.15</td>\n",
       "      <td>...</td>\n",
       "      <td>23.5</td>\n",
       "      <td>20.3</td>\n",
       "      <td>20.3</td>\n",
       "      <td>23.5</td>\n",
       "      <td>-215.0</td>\n",
       "      <td>280.00</td>\n",
       "      <td>-162.00</td>\n",
       "      <td>-162.00</td>\n",
       "      <td>280.00</td>\n",
       "      <td>NEGATIVE</td>\n",
       "    </tr>\n",
       "    <tr>\n",
       "      <th>1</th>\n",
       "      <td>28.80</td>\n",
       "      <td>33.1</td>\n",
       "      <td>32.0</td>\n",
       "      <td>25.8</td>\n",
       "      <td>22.8</td>\n",
       "      <td>6.550</td>\n",
       "      <td>1.680</td>\n",
       "      <td>2.88</td>\n",
       "      <td>3.83</td>\n",
       "      <td>-4.82</td>\n",
       "      <td>...</td>\n",
       "      <td>-23.3</td>\n",
       "      <td>-21.8</td>\n",
       "      <td>-21.8</td>\n",
       "      <td>-23.3</td>\n",
       "      <td>182.0</td>\n",
       "      <td>2.57</td>\n",
       "      <td>-31.60</td>\n",
       "      <td>-31.60</td>\n",
       "      <td>2.57</td>\n",
       "      <td>NEUTRAL</td>\n",
       "    </tr>\n",
       "    <tr>\n",
       "      <th>2</th>\n",
       "      <td>8.90</td>\n",
       "      <td>29.4</td>\n",
       "      <td>-416.0</td>\n",
       "      <td>16.7</td>\n",
       "      <td>23.7</td>\n",
       "      <td>79.900</td>\n",
       "      <td>3.360</td>\n",
       "      <td>90.20</td>\n",
       "      <td>89.90</td>\n",
       "      <td>2.03</td>\n",
       "      <td>...</td>\n",
       "      <td>462.0</td>\n",
       "      <td>-233.0</td>\n",
       "      <td>-233.0</td>\n",
       "      <td>462.0</td>\n",
       "      <td>-267.0</td>\n",
       "      <td>281.00</td>\n",
       "      <td>-148.00</td>\n",
       "      <td>-148.00</td>\n",
       "      <td>281.00</td>\n",
       "      <td>POSITIVE</td>\n",
       "    </tr>\n",
       "    <tr>\n",
       "      <th>3</th>\n",
       "      <td>14.90</td>\n",
       "      <td>31.6</td>\n",
       "      <td>-143.0</td>\n",
       "      <td>19.8</td>\n",
       "      <td>24.3</td>\n",
       "      <td>-0.584</td>\n",
       "      <td>-0.284</td>\n",
       "      <td>8.82</td>\n",
       "      <td>2.30</td>\n",
       "      <td>-1.97</td>\n",
       "      <td>...</td>\n",
       "      <td>299.0</td>\n",
       "      <td>-243.0</td>\n",
       "      <td>-243.0</td>\n",
       "      <td>299.0</td>\n",
       "      <td>132.0</td>\n",
       "      <td>-12.40</td>\n",
       "      <td>9.53</td>\n",
       "      <td>9.53</td>\n",
       "      <td>-12.40</td>\n",
       "      <td>POSITIVE</td>\n",
       "    </tr>\n",
       "    <tr>\n",
       "      <th>4</th>\n",
       "      <td>28.30</td>\n",
       "      <td>31.3</td>\n",
       "      <td>45.2</td>\n",
       "      <td>27.3</td>\n",
       "      <td>24.5</td>\n",
       "      <td>34.800</td>\n",
       "      <td>-5.790</td>\n",
       "      <td>3.06</td>\n",
       "      <td>41.40</td>\n",
       "      <td>5.52</td>\n",
       "      <td>...</td>\n",
       "      <td>12.0</td>\n",
       "      <td>38.1</td>\n",
       "      <td>38.1</td>\n",
       "      <td>12.0</td>\n",
       "      <td>119.0</td>\n",
       "      <td>-17.60</td>\n",
       "      <td>23.90</td>\n",
       "      <td>23.90</td>\n",
       "      <td>-17.60</td>\n",
       "      <td>NEUTRAL</td>\n",
       "    </tr>\n",
       "  </tbody>\n",
       "</table>\n",
       "<p>5 rows × 2549 columns</p>\n",
       "</div>"
      ],
      "text/plain": [
       "   # mean_0_a  mean_1_a  mean_2_a  mean_3_a  mean_4_a  mean_d_0_a  mean_d_1_a  \\\n",
       "0        4.62      30.3    -356.0      15.6      26.3       1.070       0.411   \n",
       "1       28.80      33.1      32.0      25.8      22.8       6.550       1.680   \n",
       "2        8.90      29.4    -416.0      16.7      23.7      79.900       3.360   \n",
       "3       14.90      31.6    -143.0      19.8      24.3      -0.584      -0.284   \n",
       "4       28.30      31.3      45.2      27.3      24.5      34.800      -5.790   \n",
       "\n",
       "   mean_d_2_a  mean_d_3_a  mean_d_4_a  ...  fft_741_b  fft_742_b  fft_743_b  \\\n",
       "0      -15.70        2.06        3.15  ...       23.5       20.3       20.3   \n",
       "1        2.88        3.83       -4.82  ...      -23.3      -21.8      -21.8   \n",
       "2       90.20       89.90        2.03  ...      462.0     -233.0     -233.0   \n",
       "3        8.82        2.30       -1.97  ...      299.0     -243.0     -243.0   \n",
       "4        3.06       41.40        5.52  ...       12.0       38.1       38.1   \n",
       "\n",
       "   fft_744_b  fft_745_b  fft_746_b  fft_747_b  fft_748_b  fft_749_b     label  \n",
       "0       23.5     -215.0     280.00    -162.00    -162.00     280.00  NEGATIVE  \n",
       "1      -23.3      182.0       2.57     -31.60     -31.60       2.57   NEUTRAL  \n",
       "2      462.0     -267.0     281.00    -148.00    -148.00     281.00  POSITIVE  \n",
       "3      299.0      132.0     -12.40       9.53       9.53     -12.40  POSITIVE  \n",
       "4       12.0      119.0     -17.60      23.90      23.90     -17.60   NEUTRAL  \n",
       "\n",
       "[5 rows x 2549 columns]"
      ]
     },
     "execution_count": 3,
     "metadata": {},
     "output_type": "execute_result"
    }
   ],
   "source": [
    "df.head()"
   ]
  },
  {
   "cell_type": "markdown",
   "id": "faec73c1",
   "metadata": {
    "papermill": {
     "duration": 0.018746,
     "end_time": "2021-09-11T14:25:49.891343",
     "exception": false,
     "start_time": "2021-09-11T14:25:49.872597",
     "status": "completed"
    },
    "tags": []
   },
   "source": [
    "<a id=\"v\"></a>\n",
    "### Viewing a sample"
   ]
  },
  {
   "cell_type": "code",
   "execution_count": 4,
   "id": "4e0d0650",
   "metadata": {
    "execution": {
     "iopub.execute_input": "2021-09-11T14:25:49.939814Z",
     "iopub.status.busy": "2021-09-11T14:25:49.938522Z",
     "iopub.status.idle": "2021-09-11T14:25:49.941373Z",
     "shell.execute_reply": "2021-09-11T14:25:49.940932Z",
     "shell.execute_reply.started": "2021-09-11T14:00:08.070564Z"
    },
    "papermill": {
     "duration": 0.03137,
     "end_time": "2021-09-11T14:25:49.941483",
     "exception": false,
     "start_time": "2021-09-11T14:25:49.910113",
     "status": "completed"
    },
    "tags": []
   },
   "outputs": [
    {
     "data": {
      "text/html": [
       "<div>\n",
       "<style scoped>\n",
       "    .dataframe tbody tr th:only-of-type {\n",
       "        vertical-align: middle;\n",
       "    }\n",
       "\n",
       "    .dataframe tbody tr th {\n",
       "        vertical-align: top;\n",
       "    }\n",
       "\n",
       "    .dataframe thead th {\n",
       "        text-align: right;\n",
       "    }\n",
       "</style>\n",
       "<table border=\"1\" class=\"dataframe\">\n",
       "  <thead>\n",
       "    <tr style=\"text-align: right;\">\n",
       "      <th></th>\n",
       "      <th>fft_0_b</th>\n",
       "      <th>fft_1_b</th>\n",
       "      <th>fft_2_b</th>\n",
       "      <th>fft_3_b</th>\n",
       "      <th>fft_4_b</th>\n",
       "      <th>fft_5_b</th>\n",
       "      <th>fft_6_b</th>\n",
       "      <th>fft_7_b</th>\n",
       "      <th>fft_8_b</th>\n",
       "      <th>fft_9_b</th>\n",
       "      <th>...</th>\n",
       "      <th>fft_740_b</th>\n",
       "      <th>fft_741_b</th>\n",
       "      <th>fft_742_b</th>\n",
       "      <th>fft_743_b</th>\n",
       "      <th>fft_744_b</th>\n",
       "      <th>fft_745_b</th>\n",
       "      <th>fft_746_b</th>\n",
       "      <th>fft_747_b</th>\n",
       "      <th>fft_748_b</th>\n",
       "      <th>fft_749_b</th>\n",
       "    </tr>\n",
       "  </thead>\n",
       "  <tbody>\n",
       "    <tr>\n",
       "      <th>0</th>\n",
       "      <td>-508.0</td>\n",
       "      <td>438.00</td>\n",
       "      <td>-222.00</td>\n",
       "      <td>-222.00</td>\n",
       "      <td>438.00</td>\n",
       "      <td>143.0</td>\n",
       "      <td>59.40</td>\n",
       "      <td>5.05</td>\n",
       "      <td>5.05</td>\n",
       "      <td>59.40</td>\n",
       "      <td>...</td>\n",
       "      <td>74.3</td>\n",
       "      <td>23.50</td>\n",
       "      <td>20.300</td>\n",
       "      <td>20.300</td>\n",
       "      <td>23.50</td>\n",
       "      <td>-215.0</td>\n",
       "      <td>280.00</td>\n",
       "      <td>-162.00</td>\n",
       "      <td>-162.00</td>\n",
       "      <td>280.00</td>\n",
       "    </tr>\n",
       "    <tr>\n",
       "      <th>1</th>\n",
       "      <td>126.0</td>\n",
       "      <td>-4.00</td>\n",
       "      <td>7.42</td>\n",
       "      <td>7.42</td>\n",
       "      <td>-4.00</td>\n",
       "      <td>81.6</td>\n",
       "      <td>-22.30</td>\n",
       "      <td>35.30</td>\n",
       "      <td>35.30</td>\n",
       "      <td>-22.30</td>\n",
       "      <td>...</td>\n",
       "      <td>130.0</td>\n",
       "      <td>-23.30</td>\n",
       "      <td>-21.800</td>\n",
       "      <td>-21.800</td>\n",
       "      <td>-23.30</td>\n",
       "      <td>182.0</td>\n",
       "      <td>2.57</td>\n",
       "      <td>-31.60</td>\n",
       "      <td>-31.60</td>\n",
       "      <td>2.57</td>\n",
       "    </tr>\n",
       "    <tr>\n",
       "      <th>2</th>\n",
       "      <td>-85.9</td>\n",
       "      <td>361.00</td>\n",
       "      <td>-62.20</td>\n",
       "      <td>-62.20</td>\n",
       "      <td>361.00</td>\n",
       "      <td>-558.0</td>\n",
       "      <td>684.00</td>\n",
       "      <td>-152.00</td>\n",
       "      <td>-152.00</td>\n",
       "      <td>684.00</td>\n",
       "      <td>...</td>\n",
       "      <td>-534.0</td>\n",
       "      <td>462.00</td>\n",
       "      <td>-233.000</td>\n",
       "      <td>-233.000</td>\n",
       "      <td>462.00</td>\n",
       "      <td>-267.0</td>\n",
       "      <td>281.00</td>\n",
       "      <td>-148.00</td>\n",
       "      <td>-148.00</td>\n",
       "      <td>281.00</td>\n",
       "    </tr>\n",
       "    <tr>\n",
       "      <th>3</th>\n",
       "      <td>69.5</td>\n",
       "      <td>3.89</td>\n",
       "      <td>12.10</td>\n",
       "      <td>12.10</td>\n",
       "      <td>3.89</td>\n",
       "      <td>-188.0</td>\n",
       "      <td>274.00</td>\n",
       "      <td>-200.00</td>\n",
       "      <td>-200.00</td>\n",
       "      <td>274.00</td>\n",
       "      <td>...</td>\n",
       "      <td>-183.0</td>\n",
       "      <td>299.00</td>\n",
       "      <td>-243.000</td>\n",
       "      <td>-243.000</td>\n",
       "      <td>299.00</td>\n",
       "      <td>132.0</td>\n",
       "      <td>-12.40</td>\n",
       "      <td>9.53</td>\n",
       "      <td>9.53</td>\n",
       "      <td>-12.40</td>\n",
       "    </tr>\n",
       "    <tr>\n",
       "      <th>4</th>\n",
       "      <td>226.0</td>\n",
       "      <td>-27.40</td>\n",
       "      <td>147.00</td>\n",
       "      <td>147.00</td>\n",
       "      <td>-27.40</td>\n",
       "      <td>301.0</td>\n",
       "      <td>-8.48</td>\n",
       "      <td>138.00</td>\n",
       "      <td>138.00</td>\n",
       "      <td>-8.48</td>\n",
       "      <td>...</td>\n",
       "      <td>114.0</td>\n",
       "      <td>12.00</td>\n",
       "      <td>38.100</td>\n",
       "      <td>38.100</td>\n",
       "      <td>12.00</td>\n",
       "      <td>119.0</td>\n",
       "      <td>-17.60</td>\n",
       "      <td>23.90</td>\n",
       "      <td>23.90</td>\n",
       "      <td>-17.60</td>\n",
       "    </tr>\n",
       "    <tr>\n",
       "      <th>...</th>\n",
       "      <td>...</td>\n",
       "      <td>...</td>\n",
       "      <td>...</td>\n",
       "      <td>...</td>\n",
       "      <td>...</td>\n",
       "      <td>...</td>\n",
       "      <td>...</td>\n",
       "      <td>...</td>\n",
       "      <td>...</td>\n",
       "      <td>...</td>\n",
       "      <td>...</td>\n",
       "      <td>...</td>\n",
       "      <td>...</td>\n",
       "      <td>...</td>\n",
       "      <td>...</td>\n",
       "      <td>...</td>\n",
       "      <td>...</td>\n",
       "      <td>...</td>\n",
       "      <td>...</td>\n",
       "      <td>...</td>\n",
       "      <td>...</td>\n",
       "    </tr>\n",
       "    <tr>\n",
       "      <th>2127</th>\n",
       "      <td>105.0</td>\n",
       "      <td>3.37</td>\n",
       "      <td>29.20</td>\n",
       "      <td>29.20</td>\n",
       "      <td>3.37</td>\n",
       "      <td>151.0</td>\n",
       "      <td>-19.40</td>\n",
       "      <td>8.89</td>\n",
       "      <td>8.89</td>\n",
       "      <td>-19.40</td>\n",
       "      <td>...</td>\n",
       "      <td>155.0</td>\n",
       "      <td>-21.70</td>\n",
       "      <td>0.218</td>\n",
       "      <td>0.218</td>\n",
       "      <td>-21.70</td>\n",
       "      <td>95.2</td>\n",
       "      <td>-19.90</td>\n",
       "      <td>47.20</td>\n",
       "      <td>47.20</td>\n",
       "      <td>-19.90</td>\n",
       "    </tr>\n",
       "    <tr>\n",
       "      <th>2128</th>\n",
       "      <td>-23.0</td>\n",
       "      <td>202.00</td>\n",
       "      <td>-81.60</td>\n",
       "      <td>-81.60</td>\n",
       "      <td>202.00</td>\n",
       "      <td>-345.0</td>\n",
       "      <td>404.00</td>\n",
       "      <td>-205.00</td>\n",
       "      <td>-205.00</td>\n",
       "      <td>404.00</td>\n",
       "      <td>...</td>\n",
       "      <td>-661.0</td>\n",
       "      <td>594.00</td>\n",
       "      <td>-324.000</td>\n",
       "      <td>-324.000</td>\n",
       "      <td>594.00</td>\n",
       "      <td>-35.5</td>\n",
       "      <td>142.00</td>\n",
       "      <td>-59.80</td>\n",
       "      <td>-59.80</td>\n",
       "      <td>142.00</td>\n",
       "    </tr>\n",
       "    <tr>\n",
       "      <th>2129</th>\n",
       "      <td>-288.0</td>\n",
       "      <td>312.00</td>\n",
       "      <td>-259.00</td>\n",
       "      <td>-259.00</td>\n",
       "      <td>312.00</td>\n",
       "      <td>-186.0</td>\n",
       "      <td>276.00</td>\n",
       "      <td>-199.00</td>\n",
       "      <td>-199.00</td>\n",
       "      <td>276.00</td>\n",
       "      <td>...</td>\n",
       "      <td>-232.0</td>\n",
       "      <td>370.00</td>\n",
       "      <td>-160.000</td>\n",
       "      <td>-160.000</td>\n",
       "      <td>370.00</td>\n",
       "      <td>408.0</td>\n",
       "      <td>-169.00</td>\n",
       "      <td>-10.50</td>\n",
       "      <td>-10.50</td>\n",
       "      <td>-169.00</td>\n",
       "    </tr>\n",
       "    <tr>\n",
       "      <th>2130</th>\n",
       "      <td>109.0</td>\n",
       "      <td>2.48</td>\n",
       "      <td>49.00</td>\n",
       "      <td>49.00</td>\n",
       "      <td>2.48</td>\n",
       "      <td>-230.0</td>\n",
       "      <td>216.00</td>\n",
       "      <td>-92.40</td>\n",
       "      <td>-92.40</td>\n",
       "      <td>216.00</td>\n",
       "      <td>...</td>\n",
       "      <td>-99.7</td>\n",
       "      <td>124.00</td>\n",
       "      <td>-27.600</td>\n",
       "      <td>-27.600</td>\n",
       "      <td>124.00</td>\n",
       "      <td>-656.0</td>\n",
       "      <td>552.00</td>\n",
       "      <td>-271.00</td>\n",
       "      <td>-271.00</td>\n",
       "      <td>552.00</td>\n",
       "    </tr>\n",
       "    <tr>\n",
       "      <th>2131</th>\n",
       "      <td>127.0</td>\n",
       "      <td>5.49</td>\n",
       "      <td>-14.50</td>\n",
       "      <td>-14.50</td>\n",
       "      <td>5.49</td>\n",
       "      <td>127.0</td>\n",
       "      <td>4.71</td>\n",
       "      <td>-9.31</td>\n",
       "      <td>-9.31</td>\n",
       "      <td>4.71</td>\n",
       "      <td>...</td>\n",
       "      <td>181.0</td>\n",
       "      <td>1.95</td>\n",
       "      <td>1.810</td>\n",
       "      <td>1.810</td>\n",
       "      <td>1.95</td>\n",
       "      <td>110.0</td>\n",
       "      <td>-6.71</td>\n",
       "      <td>22.80</td>\n",
       "      <td>22.80</td>\n",
       "      <td>-6.71</td>\n",
       "    </tr>\n",
       "  </tbody>\n",
       "</table>\n",
       "<p>2132 rows × 750 columns</p>\n",
       "</div>"
      ],
      "text/plain": [
       "      fft_0_b  fft_1_b  fft_2_b  fft_3_b  fft_4_b  fft_5_b  fft_6_b  fft_7_b  \\\n",
       "0      -508.0   438.00  -222.00  -222.00   438.00    143.0    59.40     5.05   \n",
       "1       126.0    -4.00     7.42     7.42    -4.00     81.6   -22.30    35.30   \n",
       "2       -85.9   361.00   -62.20   -62.20   361.00   -558.0   684.00  -152.00   \n",
       "3        69.5     3.89    12.10    12.10     3.89   -188.0   274.00  -200.00   \n",
       "4       226.0   -27.40   147.00   147.00   -27.40    301.0    -8.48   138.00   \n",
       "...       ...      ...      ...      ...      ...      ...      ...      ...   \n",
       "2127    105.0     3.37    29.20    29.20     3.37    151.0   -19.40     8.89   \n",
       "2128    -23.0   202.00   -81.60   -81.60   202.00   -345.0   404.00  -205.00   \n",
       "2129   -288.0   312.00  -259.00  -259.00   312.00   -186.0   276.00  -199.00   \n",
       "2130    109.0     2.48    49.00    49.00     2.48   -230.0   216.00   -92.40   \n",
       "2131    127.0     5.49   -14.50   -14.50     5.49    127.0     4.71    -9.31   \n",
       "\n",
       "      fft_8_b  fft_9_b  ...  fft_740_b  fft_741_b  fft_742_b  fft_743_b  \\\n",
       "0        5.05    59.40  ...       74.3      23.50     20.300     20.300   \n",
       "1       35.30   -22.30  ...      130.0     -23.30    -21.800    -21.800   \n",
       "2     -152.00   684.00  ...     -534.0     462.00   -233.000   -233.000   \n",
       "3     -200.00   274.00  ...     -183.0     299.00   -243.000   -243.000   \n",
       "4      138.00    -8.48  ...      114.0      12.00     38.100     38.100   \n",
       "...       ...      ...  ...        ...        ...        ...        ...   \n",
       "2127     8.89   -19.40  ...      155.0     -21.70      0.218      0.218   \n",
       "2128  -205.00   404.00  ...     -661.0     594.00   -324.000   -324.000   \n",
       "2129  -199.00   276.00  ...     -232.0     370.00   -160.000   -160.000   \n",
       "2130   -92.40   216.00  ...      -99.7     124.00    -27.600    -27.600   \n",
       "2131    -9.31     4.71  ...      181.0       1.95      1.810      1.810   \n",
       "\n",
       "      fft_744_b  fft_745_b  fft_746_b  fft_747_b  fft_748_b  fft_749_b  \n",
       "0         23.50     -215.0     280.00    -162.00    -162.00     280.00  \n",
       "1        -23.30      182.0       2.57     -31.60     -31.60       2.57  \n",
       "2        462.00     -267.0     281.00    -148.00    -148.00     281.00  \n",
       "3        299.00      132.0     -12.40       9.53       9.53     -12.40  \n",
       "4         12.00      119.0     -17.60      23.90      23.90     -17.60  \n",
       "...         ...        ...        ...        ...        ...        ...  \n",
       "2127     -21.70       95.2     -19.90      47.20      47.20     -19.90  \n",
       "2128     594.00      -35.5     142.00     -59.80     -59.80     142.00  \n",
       "2129     370.00      408.0    -169.00     -10.50     -10.50    -169.00  \n",
       "2130     124.00     -656.0     552.00    -271.00    -271.00     552.00  \n",
       "2131       1.95      110.0      -6.71      22.80      22.80      -6.71  \n",
       "\n",
       "[2132 rows x 750 columns]"
      ]
     },
     "execution_count": 4,
     "metadata": {},
     "output_type": "execute_result"
    }
   ],
   "source": [
    "fft_data = df.loc[:,'fft_0_b':'fft_749_b']\n",
    "fft_data"
   ]
  },
  {
   "cell_type": "code",
   "execution_count": 5,
   "id": "69c6f5d1",
   "metadata": {
    "execution": {
     "iopub.execute_input": "2021-09-11T14:25:50.063710Z",
     "iopub.status.busy": "2021-09-11T14:25:50.063138Z",
     "iopub.status.idle": "2021-09-11T14:25:50.328857Z",
     "shell.execute_reply": "2021-09-11T14:25:50.329310Z",
     "shell.execute_reply.started": "2021-09-11T14:00:08.126352Z"
    },
    "papermill": {
     "duration": 0.289313,
     "end_time": "2021-09-11T14:25:50.329458",
     "exception": false,
     "start_time": "2021-09-11T14:25:50.040145",
     "status": "completed"
    },
    "tags": []
   },
   "outputs": [
    {
     "data": {
      "text/plain": [
       "<AxesSubplot:>"
      ]
     },
     "execution_count": 5,
     "metadata": {},
     "output_type": "execute_result"
    },
    {
     "data": {
      "image/png": "[encoded data removed]",
      "text/plain": [
       "<Figure size 1080x720 with 1 Axes>"
      ]
     },
     "metadata": {
      "needs_background": "light"
     },
     "output_type": "display_data"
    }
   ],
   "source": [
    "fft_data.iloc[0,:].plot(figsize=(15,10))"
   ]
  },
  {
   "cell_type": "markdown",
   "id": "8a86bc58",
   "metadata": {
    "papermill": {
     "duration": 0.023594,
     "end_time": "2021-09-11T14:25:50.377084",
     "exception": false,
     "start_time": "2021-09-11T14:25:50.353490",
     "status": "completed"
    },
    "tags": []
   },
   "source": [
    "<a id=\"dp\"></a>\n",
    "## Data Pre-processing"
   ]
  },
  {
   "cell_type": "code",
   "execution_count": 6,
   "id": "577278b1",
   "metadata": {
    "execution": {
     "iopub.execute_input": "2021-09-11T14:25:50.479824Z",
     "iopub.status.busy": "2021-09-11T14:25:50.479241Z",
     "iopub.status.idle": "2021-09-11T14:25:50.482012Z",
     "shell.execute_reply": "2021-09-11T14:25:50.482395Z",
     "shell.execute_reply.started": "2021-09-11T14:00:08.387375Z"
    },
    "papermill": {
     "duration": 0.03453,
     "end_time": "2021-09-11T14:25:50.482524",
     "exception": false,
     "start_time": "2021-09-11T14:25:50.447994",
     "status": "completed"
    },
    "tags": []
   },
   "outputs": [],
   "source": [
    "le = LabelEncoder()\n",
    "df['label']=le.fit_transform(df['label'])"
   ]
  },
  {
   "cell_type": "code",
   "execution_count": 7,
   "id": "8a861459",
   "metadata": {
    "execution": {
     "iopub.execute_input": "2021-09-11T14:25:50.584582Z",
     "iopub.status.busy": "2021-09-11T14:25:50.583577Z",
     "iopub.status.idle": "2021-09-11T14:25:50.631351Z",
     "shell.execute_reply": "2021-09-11T14:25:50.630819Z",
     "shell.execute_reply.started": "2021-09-11T14:00:08.398771Z"
    },
    "papermill": {
     "duration": 0.077158,
     "end_time": "2021-09-11T14:25:50.631472",
     "exception": false,
     "start_time": "2021-09-11T14:25:50.554314",
     "status": "completed"
    },
    "tags": []
   },
   "outputs": [],
   "source": [
    "y = df.pop('label')\n",
    "X = df"
   ]
  },
  {
   "cell_type": "code",
   "execution_count": 8,
   "id": "533f47a4",
   "metadata": {},
   "outputs": [
    {
     "data": {
      "text/plain": [
       "0       0\n",
       "1       1\n",
       "2       2\n",
       "3       2\n",
       "4       1\n",
       "       ..\n",
       "2127    1\n",
       "2128    2\n",
       "2129    0\n",
       "2130    0\n",
       "2131    1\n",
       "Name: label, Length: 2132, dtype: int32"
      ]
     },
     "execution_count": 8,
     "metadata": {},
     "output_type": "execute_result"
    }
   ],
   "source": [
    "y"
   ]
  },
  {
   "cell_type": "markdown",
   "id": "01cd344d",
   "metadata": {},
   "source": [
    "<a id=\"ds\"></a>\n",
    "\n",
    "### Splitting the data into train, test"
   ]
  },
  {
   "cell_type": "code",
   "execution_count": 9,
   "id": "94b782ff",
   "metadata": {},
   "outputs": [],
   "source": [
    "X_train, X_test, y_train, y_test = train_test_split(X, y, train_size=0.3, random_state=48)\n",
    "\n",
    "X_train = np.array(X_train).reshape((X_train.shape[0],X_train.shape[1],1))\n",
    "X_test = np.array(X_test).reshape((X_test.shape[0],X_test.shape[1],1))"
   ]
  },
  {
   "cell_type": "code",
   "execution_count": 10,
   "id": "33e43a3d",
   "metadata": {},
   "outputs": [],
   "source": [
    "y_train = pd.get_dummies(y_train)\n",
    "y_test = pd.get_dummies(y_test)"
   ]
  },
  {
   "cell_type": "markdown",
   "id": "5dda8ddb",
   "metadata": {
    "papermill": {
     "duration": 0.023568,
     "end_time": "2021-09-11T14:25:50.679366",
     "exception": false,
     "start_time": "2021-09-11T14:25:50.655798",
     "status": "completed"
    },
    "tags": []
   },
   "source": [
    "<a id=\"dl\"></a>\n",
    "## Deep Learning Model\n",
    "\n",
    "<a id=\"ma\"></a>\n",
    "### Model Architecture "
   ]
  },
  {
   "cell_type": "code",
   "execution_count": 11,
   "id": "68329a5c",
   "metadata": {},
   "outputs": [],
   "source": [
    "model = Sequential()\n",
    "model.add(Input((X_train.shape[1], 1)))\n",
    "model.add(LSTM(256, return_sequences=True))\n",
    "model.add(Flatten())\n",
    "model.add(Dense(64))\n",
    "model.add(Dropout(0.5))\n",
    "model.add(Dense(32))\n",
    "model.add(Dense(3, activation='softmax'))"
   ]
  },
  {
   "cell_type": "code",
   "execution_count": 12,
   "id": "9292c436",
   "metadata": {
    "execution": {
     "iopub.execute_input": "2021-09-11T14:25:50.732533Z",
     "iopub.status.busy": "2021-09-11T14:25:50.731956Z",
     "iopub.status.idle": "2021-09-11T14:25:52.761282Z",
     "shell.execute_reply": "2021-09-11T14:25:52.761955Z",
     "shell.execute_reply.started": "2021-09-11T14:00:08.454241Z"
    },
    "papermill": {
     "duration": 2.058836,
     "end_time": "2021-09-11T14:25:52.762170",
     "exception": false,
     "start_time": "2021-09-11T14:25:50.703334",
     "status": "completed"
    },
    "tags": []
   },
   "outputs": [
    {
     "name": "stdout",
     "output_type": "stream",
     "text": [
      "Model: \"sequential\"\n",
      "_________________________________________________________________\n",
      " Layer (type)                Output Shape              Param #   \n",
      "=================================================================\n",
      " lstm (LSTM)                 (None, 2548, 256)         264192    \n",
      "                                                                 \n",
      " flatten (Flatten)           (None, 652288)            0         \n",
      "                                                                 \n",
      " dense (Dense)               (None, 64)                41746496  \n",
      "                                                                 \n",
      " dropout (Dropout)           (None, 64)                0         \n",
      "                                                                 \n",
      " dense_1 (Dense)             (None, 32)                2080      \n",
      "                                                                 \n",
      " dense_2 (Dense)             (None, 3)                 99        \n",
      "                                                                 \n",
      "=================================================================\n",
      "Total params: 42,012,867\n",
      "Trainable params: 42,012,867\n",
      "Non-trainable params: 0\n",
      "_________________________________________________________________\n"
     ]
    }
   ],
   "source": [
    "model.summary()"
   ]
  },
  {
   "cell_type": "markdown",
   "id": "27ffd495",
   "metadata": {
    "papermill": {
     "duration": 0.024464,
     "end_time": "2021-09-11T14:25:53.276095",
     "exception": false,
     "start_time": "2021-09-11T14:25:53.251631",
     "status": "completed"
    },
    "tags": []
   },
   "source": [
    "<a id=\"mt\"></a>\n",
    "### Training the model. "
   ]
  },
  {
   "cell_type": "code",
   "execution_count": 13,
   "id": "47ff0a33",
   "metadata": {},
   "outputs": [],
   "source": [
    "opt_adam = tf.keras.optimizers.Adam(learning_rate=0.001)\n",
    "\n",
    "model.compile(optimizer=opt_adam,\n",
    "                  loss=['categorical_crossentropy'],\n",
    "                  metrics=['accuracy'])"
   ]
  },
  {
   "cell_type": "code",
   "execution_count": 14,
   "id": "6b3c5120",
   "metadata": {},
   "outputs": [],
   "source": [
    "es = EarlyStopping(monitor='val_loss', mode='min', verbose=1, patience=10)"
   ]
  },
  {
   "cell_type": "code",
   "execution_count": 16,
   "id": "75e966f2",
   "metadata": {
    "execution": {
     "iopub.execute_input": "2021-09-11T14:25:53.445686Z",
     "iopub.status.busy": "2021-09-11T14:25:53.444913Z",
     "iopub.status.idle": "2021-09-11T16:01:28.904887Z",
     "shell.execute_reply": "2021-09-11T16:01:28.905287Z",
     "shell.execute_reply.started": "2021-09-11T14:00:10.852444Z"
    },
    "papermill": {
     "duration": 5735.496491,
     "end_time": "2021-09-11T16:01:28.905458",
     "exception": false,
     "start_time": "2021-09-11T14:25:53.408967",
     "status": "completed"
    },
    "tags": []
   },
   "outputs": [
    {
     "name": "stdout",
     "output_type": "stream",
     "text": [
      "Epoch 1/15\n",
      "20/20 [==============================] - 12s 423ms/step - loss: 113.0865 - accuracy: 0.7152 - val_loss: 24.1952 - val_accuracy: 0.9109\n",
      "Epoch 2/15\n",
      "20/20 [==============================] - 8s 418ms/step - loss: 40.4311 - accuracy: 0.8717 - val_loss: 34.0735 - val_accuracy: 0.8868\n",
      "Epoch 3/15\n",
      "20/20 [==============================] - 8s 412ms/step - loss: 11.8774 - accuracy: 0.9014 - val_loss: 3.4894 - val_accuracy: 0.9337\n",
      "Epoch 4/15\n",
      "20/20 [==============================] - 8s 417ms/step - loss: 2.6855 - accuracy: 0.9452 - val_loss: 4.3921 - val_accuracy: 0.9290\n",
      "Epoch 5/15\n",
      "20/20 [==============================] - 8s 417ms/step - loss: 2.3295 - accuracy: 0.9515 - val_loss: 3.1257 - val_accuracy: 0.9397\n",
      "Epoch 6/15\n",
      "20/20 [==============================] - 8s 400ms/step - loss: 1.2352 - accuracy: 0.9609 - val_loss: 3.0705 - val_accuracy: 0.9444\n",
      "Epoch 7/15\n",
      "20/20 [==============================] - 8s 405ms/step - loss: 1.0869 - accuracy: 0.9734 - val_loss: 2.8518 - val_accuracy: 0.9498\n",
      "Epoch 8/15\n",
      "20/20 [==============================] - 8s 417ms/step - loss: 0.9564 - accuracy: 0.9718 - val_loss: 7.6515 - val_accuracy: 0.9129\n",
      "Epoch 9/15\n",
      "20/20 [==============================] - 8s 414ms/step - loss: 0.6985 - accuracy: 0.9765 - val_loss: 2.6995 - val_accuracy: 0.9652\n",
      "Epoch 10/15\n",
      "20/20 [==============================] - 8s 411ms/step - loss: 0.3428 - accuracy: 0.9859 - val_loss: 4.0367 - val_accuracy: 0.9424\n",
      "Epoch 11/15\n",
      "20/20 [==============================] - 8s 420ms/step - loss: 0.2760 - accuracy: 0.9859 - val_loss: 3.4652 - val_accuracy: 0.9471\n",
      "Epoch 12/15\n",
      "20/20 [==============================] - 8s 422ms/step - loss: 0.8245 - accuracy: 0.9875 - val_loss: 2.4501 - val_accuracy: 0.9598\n",
      "Epoch 13/15\n",
      "20/20 [==============================] - 8s 410ms/step - loss: 0.6845 - accuracy: 0.9875 - val_loss: 2.4491 - val_accuracy: 0.9638\n",
      "Epoch 14/15\n",
      "20/20 [==============================] - 8s 414ms/step - loss: 0.2097 - accuracy: 0.9922 - val_loss: 2.3293 - val_accuracy: 0.9685\n",
      "Epoch 15/15\n",
      "20/20 [==============================] - 8s 409ms/step - loss: 0.7193 - accuracy: 0.9812 - val_loss: 2.3191 - val_accuracy: 0.9618\n"
     ]
    }
   ],
   "source": [
    "model_history = model.fit(X_train, y_train,\n",
    "         validation_data=(X_test, y_test),\n",
    "          batch_size = 32,\n",
    "         epochs = 15,\n",
    "         callbacks=[es])"
   ]
  },
  {
   "cell_type": "markdown",
   "id": "ac0900e9",
   "metadata": {},
   "source": [
    "<a id=\"s\"></a>\n",
    "### Model Saving"
   ]
  },
  {
   "cell_type": "code",
   "execution_count": 17,
   "id": "4a3007f5",
   "metadata": {},
   "outputs": [
    {
     "name": "stderr",
     "output_type": "stream",
     "text": [
      "WARNING:absl:Found untraced functions such as lstm_cell_layer_call_fn, lstm_cell_layer_call_and_return_conditional_losses while saving (showing 2 of 2). These functions will not be directly callable after loading.\n"
     ]
    },
    {
     "name": "stdout",
     "output_type": "stream",
     "text": [
      "INFO:tensorflow:Assets written to: D://Emotion_classification/assets\n"
     ]
    },
    {
     "name": "stderr",
     "output_type": "stream",
     "text": [
      "INFO:tensorflow:Assets written to: D://Emotion_classification/assets\n",
      "WARNING:absl:<keras.layers.recurrent.LSTMCell object at 0x000001DE1224E160> has the same name 'LSTMCell' as a built-in Keras object. Consider renaming <class 'keras.layers.recurrent.LSTMCell'> to avoid naming conflicts when loading with `tf.keras.models.load_model`. If renaming is not possible, pass the object in the `custom_objects` parameter of the load function.\n"
     ]
    }
   ],
   "source": [
    "model.save(\"D://Emotion_classification\")"
   ]
  },
  {
   "cell_type": "markdown",
   "id": "3497a2cd",
   "metadata": {
    "papermill": {
     "duration": 0.224025,
     "end_time": "2021-09-11T16:01:29.354447",
     "exception": false,
     "start_time": "2021-09-11T16:01:29.130422",
     "status": "completed"
    },
    "tags": []
   },
   "source": [
    "<a id=\"mh\"></a>\n",
    "### Plotting the model history curves "
   ]
  },
  {
   "cell_type": "code",
   "execution_count": 18,
   "id": "b6633618",
   "metadata": {},
   "outputs": [],
   "source": [
    "Model_history_df = pd.DataFrame(model_history.history)"
   ]
  },
  {
   "cell_type": "code",
   "execution_count": 19,
   "id": "c25b13d7",
   "metadata": {
    "execution": {
     "iopub.execute_input": "2021-09-11T16:01:29.813312Z",
     "iopub.status.busy": "2021-09-11T16:01:29.812475Z",
     "iopub.status.idle": "2021-09-11T16:01:30.260256Z",
     "shell.execute_reply": "2021-09-11T16:01:30.260673Z",
     "shell.execute_reply.started": "2021-09-11T14:06:18.196759Z"
    },
    "papermill": {
     "duration": 0.683323,
     "end_time": "2021-09-11T16:01:30.260817",
     "exception": false,
     "start_time": "2021-09-11T16:01:29.577494",
     "status": "completed"
    },
    "tags": []
   },
   "outputs": [
    {
     "data": {
      "image/png": "[encoded data removed]",
      "text/plain": [
       "<Figure size 432x288 with 1 Axes>"
      ]
     },
     "metadata": {
      "needs_background": "light"
     },
     "output_type": "display_data"
    }
   ],
   "source": [
    "Model_history_df.loc[:, ['loss', 'val_loss']].plot()\n",
    "plt.ylabel('Loss')\n",
    "plt.xlabel('Epoch')\n",
    "plt.show()"
   ]
  },
  {
   "cell_type": "code",
   "execution_count": 21,
   "id": "9253e709",
   "metadata": {},
   "outputs": [
    {
     "data": {
      "image/png": "[encoded data removed]",
      "text/plain": [
       "<Figure size 432x288 with 1 Axes>"
      ]
     },
     "metadata": {
      "needs_background": "light"
     },
     "output_type": "display_data"
    }
   ],
   "source": [
    "Model_history_df.loc[:, ['accuracy', 'val_accuracy']].plot()\n",
    "plt.ylabel('Accuracy')\n",
    "plt.xlabel('Epoch')\n",
    "plt.show()"
   ]
  },
  {
   "cell_type": "markdown",
   "id": "a191b51b",
   "metadata": {
    "papermill": {
     "duration": 0.227698,
     "end_time": "2021-09-11T16:01:30.716231",
     "exception": false,
     "start_time": "2021-09-11T16:01:30.488533",
     "status": "completed"
    },
    "tags": []
   },
   "source": [
    "<a id=\"me\"></a>\n",
    "### Evaluating the model "
   ]
  },
  {
   "cell_type": "code",
   "execution_count": 22,
   "id": "6ecca998",
   "metadata": {},
   "outputs": [
    {
     "name": "stdout",
     "output_type": "stream",
     "text": [
      "20/20 [==============================] - 2s 78ms/step - loss: 0.0599 - accuracy: 0.9953\n"
     ]
    },
    {
     "data": {
      "text/plain": [
       "[0.05994049459695816, 0.9953051805496216]"
      ]
     },
     "execution_count": 22,
     "metadata": {},
     "output_type": "execute_result"
    }
   ],
   "source": [
    "train_acc = model.evaluate(X_train, y_train, verbose=1)\n",
    "train_acc"
   ]
  },
  {
   "cell_type": "code",
   "execution_count": 23,
   "id": "921222b5",
   "metadata": {
    "execution": {
     "iopub.execute_input": "2021-09-11T16:01:31.628334Z",
     "iopub.status.busy": "2021-09-11T16:01:31.627667Z",
     "iopub.status.idle": "2021-09-11T16:01:42.259336Z",
     "shell.execute_reply": "2021-09-11T16:01:42.258746Z",
     "shell.execute_reply.started": "2021-09-11T14:06:18.642126Z"
    },
    "papermill": {
     "duration": 10.862104,
     "end_time": "2021-09-11T16:01:42.259487",
     "exception": false,
     "start_time": "2021-09-11T16:01:31.397383",
     "status": "completed"
    },
    "tags": []
   },
   "outputs": [
    {
     "name": "stdout",
     "output_type": "stream",
     "text": [
      "47/47 [==============================] - 4s 78ms/step - loss: 2.3191 - accuracy: 0.9618\n"
     ]
    },
    {
     "data": {
      "text/plain": [
       "[2.3191332817077637, 0.9618218541145325]"
      ]
     },
     "execution_count": 23,
     "metadata": {},
     "output_type": "execute_result"
    }
   ],
   "source": [
    "test_acc = model.evaluate(X_test, y_test, verbose=1)\n",
    "test_acc"
   ]
  },
  {
   "cell_type": "markdown",
   "id": "1a25e744",
   "metadata": {},
   "source": [
    "<a id=\"hm\"></a>\n",
    "### Plotting Heatmap and Classification Report"
   ]
  },
  {
   "cell_type": "code",
   "execution_count": 26,
   "id": "6d939b64",
   "metadata": {
    "execution": {
     "iopub.execute_input": "2021-09-11T16:01:43.194800Z",
     "iopub.status.busy": "2021-09-11T16:01:43.193883Z",
     "iopub.status.idle": "2021-09-11T16:01:54.038700Z",
     "shell.execute_reply": "2021-09-11T16:01:54.039367Z",
     "shell.execute_reply.started": "2021-09-11T14:23:36.496299Z"
    },
    "papermill": {
     "duration": 11.081837,
     "end_time": "2021-09-11T16:01:54.039594",
     "exception": false,
     "start_time": "2021-09-11T16:01:42.957757",
     "status": "completed"
    },
    "tags": []
   },
   "outputs": [
    {
     "data": {
      "image/png": "[encoded data removed]",
      "text/plain": [
       "<Figure size 576x576 with 1 Axes>"
      ]
     },
     "metadata": {
      "needs_background": "light"
     },
     "output_type": "display_data"
    },
    {
     "name": "stdout",
     "output_type": "stream",
     "text": [
      "Classification Report:\n",
      "----------------------\n",
      "               precision    recall  f1-score   support\n",
      "\n",
      "           0       0.96      0.94      0.95       487\n",
      "           1       0.99      0.99      0.99       497\n",
      "           2       0.93      0.96      0.94       509\n",
      "\n",
      "    accuracy                           0.96      1493\n",
      "   macro avg       0.96      0.96      0.96      1493\n",
      "weighted avg       0.96      0.96      0.96      1493\n",
      "\n"
     ]
    }
   ],
   "source": [
    "y_pred = np.array(list(map(lambda x: np.argmax(x), model.predict(X_test))))\n",
    "y_test = y_test.idxmax(axis=1)\n",
    "\n",
    "cm = confusion_matrix(y_test, y_pred)\n",
    "clr = classification_report(y_test, y_pred)\n",
    "\n",
    "plt.figure(figsize=(8, 8))\n",
    "sns.heatmap(cm, annot=True, vmin=0, fmt='g', cbar=False, cmap='Blues')\n",
    "plt.xlabel(\"Predicted\")\n",
    "plt.ylabel(\"Actual\")\n",
    "plt.title(\"Confusion Matrix\")\n",
    "plt.show()\n",
    "\n",
    "print(\"Classification Report:\\n----------------------\\n\", clr)"
   ]
  },
  {
   "cell_type": "code",
   "execution_count": null,
   "id": "624b8d8d",
   "metadata": {
    "papermill": {
     "duration": 0.224868,
     "end_time": "2021-09-11T16:01:54.947407",
     "exception": false,
     "start_time": "2021-09-11T16:01:54.722539",
     "status": "completed"
    },
    "tags": []
   },
   "outputs": [],
   "source": []
  },
  {
   "cell_type": "code",
   "execution_count": null,
   "id": "b1a5db80",
   "metadata": {
    "papermill": {
     "duration": 0.223755,
     "end_time": "2021-09-11T16:01:55.395551",
     "exception": false,
     "start_time": "2021-09-11T16:01:55.171796",
     "status": "completed"
    },
    "tags": []
   },
   "outputs": [],
   "source": []
  }
 ],
 "metadata": {
  "kernelspec": {
   "display_name": "Python 3 (ipykernel)",
   "language": "python",
   "name": "python3"
  },
  "language_info": {
   "codemirror_mode": {
    "name": "ipython",
    "version": 3
   },
   "file_extension": ".py",
   "mimetype": "text/x-python",
   "name": "python",
   "nbconvert_exporter": "python",
   "pygments_lexer": "ipython3",
   "version": "3.8.5"
  },
  "papermill": {
   "default_parameters": {},
   "duration": 5782.408461,
   "end_time": "2021-09-11T16:01:57.653116",
   "environment_variables": {},
   "exception": null,
   "input_path": "__notebook__.ipynb",
   "output_path": "__notebook__.ipynb",
   "parameters": {},
   "start_time": "2021-09-11T14:25:35.244655",
   "version": "2.3.3"
  }
 },
 "nbformat": 4,
 "nbformat_minor": 5
}
